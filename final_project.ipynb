{
 "cells": [
  {
   "cell_type": "code",
   "execution_count": 9,
   "id": "a11c6b94",
   "metadata": {},
   "outputs": [],
   "source": [
    "import pandas as pd"
   ]
  },
  {
   "cell_type": "code",
   "execution_count": 10,
   "id": "27bfba5e",
   "metadata": {},
   "outputs": [],
   "source": [
    "games=pd.read_csv('games.csv')"
   ]
  },
  {
   "cell_type": "code",
   "execution_count": 11,
   "id": "cf92557a",
   "metadata": {},
   "outputs": [],
   "source": [
    "games['GAME_DATE_EST']=pd.to_datetime(games['GAME_DATE_EST'])"
   ]
  },
  {
   "cell_type": "code",
   "execution_count": 12,
   "id": "8021aa50",
   "metadata": {},
   "outputs": [],
   "source": [
    "games = games[games['GAME_DATE_EST'].dt.strftime('%Y') > '2017']"
   ]
  },
  {
   "cell_type": "code",
   "execution_count": 13,
   "id": "a8323115",
   "metadata": {},
   "outputs": [],
   "source": [
    "games_details=pd.read_csv('games_details.csv', low_memory=False)"
   ]
  },
  {
   "cell_type": "code",
   "execution_count": 14,
   "id": "9bd9ccf1",
   "metadata": {},
   "outputs": [],
   "source": [
    "players=pd.read_csv('players.csv')"
   ]
  },
  {
   "cell_type": "code",
   "execution_count": 15,
   "id": "481732b8",
   "metadata": {},
   "outputs": [],
   "source": [
    "ranking=pd.read_csv('ranking.csv')"
   ]
  },
  {
   "cell_type": "code",
   "execution_count": 16,
   "id": "662965b9",
   "metadata": {},
   "outputs": [],
   "source": [
    "ranking['STANDINGSDATE']=pd.to_datetime(ranking['STANDINGSDATE'])"
   ]
  },
  {
   "cell_type": "code",
   "execution_count": 17,
   "id": "481c769f",
   "metadata": {},
   "outputs": [],
   "source": [
    "ranking = ranking[ranking['STANDINGSDATE'].dt.strftime('%Y') > '2017']"
   ]
  },
  {
   "cell_type": "code",
   "execution_count": 18,
   "id": "6a4d56a7",
   "metadata": {},
   "outputs": [],
   "source": [
    "teams=pd.read_csv('teams.csv')"
   ]
  },
  {
   "cell_type": "code",
   "execution_count": 19,
   "id": "c15f9639",
   "metadata": {},
   "outputs": [],
   "source": [
    "def column_to_lowercase(df):\n",
    "    lower_list=[]\n",
    "    for i in range(len(list(df.columns))):\n",
    "        lower_list.append(list(df.columns)[i].lower())\n",
    "    df.columns=lower_list\n",
    "    return df"
   ]
  },
  {
   "cell_type": "markdown",
   "id": "d479aa3c",
   "metadata": {},
   "source": [
    "## player "
   ]
  },
  {
   "cell_type": "code",
   "execution_count": 20,
   "id": "d9af0c57",
   "metadata": {},
   "outputs": [],
   "source": [
    "player=players[[\"PLAYER_ID\",\"PLAYER_NAME\"]].drop_duplicates()"
   ]
  },
  {
   "cell_type": "code",
   "execution_count": 21,
   "id": "c45e3747",
   "metadata": {},
   "outputs": [],
   "source": [
    "player_temp1=games_details[[\"PLAYER_ID\",\"PLAYER_NAME\",\"NICKNAME\"]].drop_duplicates()"
   ]
  },
  {
   "cell_type": "code",
   "execution_count": 22,
   "id": "8429802c",
   "metadata": {},
   "outputs": [],
   "source": [
    "player=player.merge(player_temp1,how='left',left_index=True, right_index=True, suffixes=('', '_drop'))"
   ]
  },
  {
   "cell_type": "code",
   "execution_count": 23,
   "id": "b6a79d29",
   "metadata": {},
   "outputs": [],
   "source": [
    "player.drop([col for col in player.columns if 'drop' in col], axis=1, inplace=True)"
   ]
  },
  {
   "cell_type": "code",
   "execution_count": 24,
   "id": "140e9624",
   "metadata": {},
   "outputs": [],
   "source": [
    "player=column_to_lowercase(player)"
   ]
  },
  {
   "cell_type": "code",
   "execution_count": 25,
   "id": "3fb8de9d",
   "metadata": {},
   "outputs": [],
   "source": [
    "player=player.rename(columns={\"nickname\":\"player_nickname\"})"
   ]
  },
  {
   "cell_type": "markdown",
   "id": "ffb07d37",
   "metadata": {},
   "source": [
    "## team"
   ]
  },
  {
   "cell_type": "code",
   "execution_count": 26,
   "id": "78feb7ab",
   "metadata": {},
   "outputs": [],
   "source": [
    "team=teams[[\"TEAM_ID\",'MIN_YEAR',\n",
    "       'ABBREVIATION','NICKNAME','YEARFOUNDED','OWNER','GENERALMANAGER','HEADCOACH','CITY']]"
   ]
  },
  {
   "cell_type": "code",
   "execution_count": 27,
   "id": "a158f9c3",
   "metadata": {},
   "outputs": [],
   "source": [
    "team_temp1=ranking[['TEAM_ID','CONFERENCE']].drop_duplicates()"
   ]
  },
  {
   "cell_type": "code",
   "execution_count": 28,
   "id": "ffc4767f",
   "metadata": {},
   "outputs": [],
   "source": [
    "team=team.merge(team_temp1,how='left',on='TEAM_ID')"
   ]
  },
  {
   "cell_type": "code",
   "execution_count": 29,
   "id": "68f99616",
   "metadata": {},
   "outputs": [],
   "source": [
    "team=column_to_lowercase(team)"
   ]
  },
  {
   "cell_type": "code",
   "execution_count": 30,
   "id": "0d4d089e",
   "metadata": {},
   "outputs": [],
   "source": [
    "team=team.rename(columns={\"nickname\":\"team_nickname\", \"city\":\"team_city\"})"
   ]
  },
  {
   "cell_type": "markdown",
   "id": "d9401297",
   "metadata": {},
   "source": [
    "## rankings"
   ]
  },
  {
   "cell_type": "code",
   "execution_count": 31,
   "id": "baf65fc8",
   "metadata": {},
   "outputs": [],
   "source": [
    "rankings=ranking[['STANDINGSDATE','TEAM_ID','G','W','L','HOME_RECORD','ROAD_RECORD','W_PCT']]\n",
    "rankings=column_to_lowercase(rankings)"
   ]
  },
  {
   "cell_type": "code",
   "execution_count": 32,
   "id": "7cb21612",
   "metadata": {},
   "outputs": [],
   "source": [
    "rankings=rankings.rename(columns={'standingsdate':'standingdate'})"
   ]
  },
  {
   "cell_type": "code",
   "execution_count": 33,
   "id": "74b13ee8",
   "metadata": {},
   "outputs": [],
   "source": [
    "ranking=rankings"
   ]
  },
  {
   "cell_type": "code",
   "execution_count": 34,
   "id": "0cb285d6",
   "metadata": {},
   "outputs": [],
   "source": [
    "ranking=ranking.rename(columns={'g':'number_of_games','w':'winning_games','l':'losing_games'})\n",
    "ranking=ranking.drop_duplicates(subset=['standingdate', 'team_id'], keep='first')"
   ]
  },
  {
   "cell_type": "markdown",
   "id": "a53fbb80",
   "metadata": {},
   "source": [
    "## player_team"
   ]
  },
  {
   "cell_type": "code",
   "execution_count": 35,
   "id": "06d6ba57",
   "metadata": {},
   "outputs": [],
   "source": [
    "temp1=games[['GAME_ID','SEASON']].drop_duplicates()"
   ]
  },
  {
   "cell_type": "code",
   "execution_count": 36,
   "id": "b7030b85",
   "metadata": {},
   "outputs": [],
   "source": [
    "temp2=games_details[['GAME_ID','PLAYER_ID','TEAM_ID']].drop_duplicates()"
   ]
  },
  {
   "cell_type": "code",
   "execution_count": 37,
   "id": "89308c0c",
   "metadata": {},
   "outputs": [],
   "source": [
    "player_team=temp2.merge(temp1,how='left',on='GAME_ID')[['SEASON','PLAYER_ID','TEAM_ID']]"
   ]
  },
  {
   "cell_type": "code",
   "execution_count": 38,
   "id": "62709d18",
   "metadata": {},
   "outputs": [],
   "source": [
    "player_team=column_to_lowercase(player_team)"
   ]
  },
  {
   "cell_type": "code",
   "execution_count": 39,
   "id": "304ab53c",
   "metadata": {},
   "outputs": [],
   "source": [
    "player_team=player_team.dropna()"
   ]
  },
  {
   "cell_type": "markdown",
   "id": "a7ef981e",
   "metadata": {},
   "source": [
    "## player justification"
   ]
  },
  {
   "cell_type": "code",
   "execution_count": 40,
   "id": "d03ba808",
   "metadata": {},
   "outputs": [],
   "source": [
    "player=player.merge(player_team,how=\"right\",on='player_id')[['player_id','player_name','player_nickname']]"
   ]
  },
  {
   "cell_type": "code",
   "execution_count": 41,
   "id": "cb24b0d7",
   "metadata": {},
   "outputs": [],
   "source": [
    "player=player.drop_duplicates()"
   ]
  },
  {
   "cell_type": "markdown",
   "id": "6ccec8e2",
   "metadata": {},
   "source": [
    "## player_team justification"
   ]
  },
  {
   "cell_type": "code",
   "execution_count": 42,
   "id": "2e1ac128",
   "metadata": {},
   "outputs": [],
   "source": [
    "player_team=player_team.drop_duplicates(subset=['season', 'player_id'], keep='first') ## drop mistakes recorded"
   ]
  },
  {
   "cell_type": "markdown",
   "id": "9b99be65",
   "metadata": {},
   "source": [
    "## game"
   ]
  },
  {
   "cell_type": "code",
   "execution_count": 43,
   "id": "e8722ace",
   "metadata": {},
   "outputs": [],
   "source": [
    "game=games[['GAME_ID','GAME_DATE_EST','SEASON','HOME_TEAM_ID','VISITOR_TEAM_ID','HOME_TEAM_WINS']]"
   ]
  },
  {
   "cell_type": "code",
   "execution_count": 44,
   "id": "bc75f302",
   "metadata": {},
   "outputs": [],
   "source": [
    "location_temp=teams[['TEAM_ID','ARENA','ARENACAPACITY']]"
   ]
  },
  {
   "cell_type": "code",
   "execution_count": 45,
   "id": "f4e3dac1",
   "metadata": {},
   "outputs": [],
   "source": [
    "location_temp.insert(0, 'arena_id', range(1, 1 + len(location_temp)))"
   ]
  },
  {
   "cell_type": "code",
   "execution_count": 46,
   "id": "892c56f1",
   "metadata": {},
   "outputs": [],
   "source": [
    "location_temp=location_temp.rename(columns={'TEAM_ID':'HOME_TEAM_ID'}) ## team_id is same as home_team_id"
   ]
  },
  {
   "cell_type": "code",
   "execution_count": 47,
   "id": "58814bce",
   "metadata": {},
   "outputs": [],
   "source": [
    "game=game.merge(location_temp,how='left',on='HOME_TEAM_ID').drop(['ARENA','ARENACAPACITY'],axis=1)"
   ]
  },
  {
   "cell_type": "code",
   "execution_count": 48,
   "id": "67569569",
   "metadata": {},
   "outputs": [],
   "source": [
    "game=column_to_lowercase(game)"
   ]
  },
  {
   "cell_type": "markdown",
   "id": "9fa6607e",
   "metadata": {},
   "source": [
    "## game_details & games_player_teams"
   ]
  },
  {
   "cell_type": "code",
   "execution_count": 49,
   "id": "a57027e6",
   "metadata": {},
   "outputs": [],
   "source": [
    "games_details=column_to_lowercase(games_details)"
   ]
  },
  {
   "cell_type": "code",
   "execution_count": 50,
   "id": "6688214d",
   "metadata": {},
   "outputs": [],
   "source": [
    "game_details=game[['game_id']].merge(games_details,how='left',on='game_id')"
   ]
  },
  {
   "cell_type": "code",
   "execution_count": 51,
   "id": "a9ae9c26",
   "metadata": {},
   "outputs": [],
   "source": [
    "game_details=game_details.drop_duplicates()"
   ]
  },
  {
   "cell_type": "code",
   "execution_count": 52,
   "id": "8038d84a",
   "metadata": {},
   "outputs": [],
   "source": [
    "games_player_teams=game_details[['game_id','team_id','player_id']]"
   ]
  },
  {
   "cell_type": "code",
   "execution_count": 53,
   "id": "639985e3",
   "metadata": {},
   "outputs": [],
   "source": [
    "game_details=game_details.drop(['team_id','team_abbreviation','team_city','player_name','nickname','min'],axis=1)"
   ]
  },
  {
   "cell_type": "code",
   "execution_count": 54,
   "id": "ae4831a8",
   "metadata": {},
   "outputs": [],
   "source": [
    "game_details=game_details.rename(columns={'game_id':'games_id'})"
   ]
  },
  {
   "cell_type": "code",
   "execution_count": 55,
   "id": "fca617dd",
   "metadata": {},
   "outputs": [],
   "source": [
    "games_player_teams=games_player_teams.rename(columns={'game_id':'games_id'}).drop_duplicates()"
   ]
  },
  {
   "cell_type": "markdown",
   "id": "a076c99f",
   "metadata": {},
   "source": [
    "## game_location_info"
   ]
  },
  {
   "cell_type": "code",
   "execution_count": 56,
   "id": "131f4145",
   "metadata": {},
   "outputs": [],
   "source": [
    "game_location_info=location_temp.drop('HOME_TEAM_ID',axis=1)"
   ]
  },
  {
   "cell_type": "code",
   "execution_count": 57,
   "id": "ca22d107",
   "metadata": {},
   "outputs": [],
   "source": [
    "game_location_info=column_to_lowercase(game_location_info)"
   ]
  },
  {
   "cell_type": "markdown",
   "id": "4302b080",
   "metadata": {},
   "source": [
    "## games_visitorteam / games_hometeam"
   ]
  },
  {
   "cell_type": "code",
   "execution_count": 58,
   "id": "b1f2f690",
   "metadata": {},
   "outputs": [],
   "source": [
    "games_visitorteam=games[['GAME_ID','VISITOR_TEAM_ID','PTS_away','FG_PCT_away','FT_PCT_away','AST_away','REB_away']]"
   ]
  },
  {
   "cell_type": "code",
   "execution_count": 59,
   "id": "41461beb",
   "metadata": {},
   "outputs": [],
   "source": [
    "games_hometeam=games[['GAME_ID','HOME_TEAM_ID','PTS_home','FG_PCT_home','FT_PCT_home','AST_home','REB_home']]"
   ]
  },
  {
   "cell_type": "code",
   "execution_count": 60,
   "id": "82968ede",
   "metadata": {},
   "outputs": [],
   "source": [
    "games_hometeam.columns=['game_id','home_team_id','PTS','FG_PCT','FT_PCT','AST','REB']"
   ]
  },
  {
   "cell_type": "code",
   "execution_count": 61,
   "id": "a856e705",
   "metadata": {},
   "outputs": [],
   "source": [
    "games_hometeam=column_to_lowercase(games_hometeam)"
   ]
  },
  {
   "cell_type": "code",
   "execution_count": 62,
   "id": "5d897f10",
   "metadata": {},
   "outputs": [],
   "source": [
    "games_visitorteam.columns=['game_id','visitor_team_id','PTS','FG_PCT','FT_PCT','AST','REB']"
   ]
  },
  {
   "cell_type": "code",
   "execution_count": 63,
   "id": "7a477eb0",
   "metadata": {},
   "outputs": [],
   "source": [
    "games_visitorteam=column_to_lowercase(games_visitorteam)"
   ]
  },
  {
   "cell_type": "markdown",
   "id": "e9a607e2",
   "metadata": {},
   "source": [
    "## Details Justification to ensure the consistency"
   ]
  },
  {
   "cell_type": "code",
   "execution_count": 64,
   "id": "de00e183",
   "metadata": {},
   "outputs": [],
   "source": [
    "game=game[[\"game_id\",\"game_date_est\",\"season\",\"home_team_wins\",\"arena_id\"]]"
   ]
  },
  {
   "cell_type": "code",
   "execution_count": 65,
   "id": "1e5338e6",
   "metadata": {},
   "outputs": [],
   "source": [
    "games=game"
   ]
  },
  {
   "cell_type": "code",
   "execution_count": 66,
   "id": "37b3813a",
   "metadata": {},
   "outputs": [],
   "source": [
    "game_details=game_details.rename(columns={\"game_id\":\"games_id\",'to':'num_to'}).drop_duplicates(subset=['games_id', 'player_id'], keep='first')"
   ]
  },
  {
   "cell_type": "code",
   "execution_count": 67,
   "id": "0503955b",
   "metadata": {},
   "outputs": [],
   "source": [
    "games=games.rename(columns={\"game_id\":\"games_id\"})"
   ]
  },
  {
   "cell_type": "code",
   "execution_count": 68,
   "id": "766e6271",
   "metadata": {},
   "outputs": [],
   "source": [
    "games_visitorteam=games_visitorteam.rename(columns={\"game_id\":\"games_id\"}).drop_duplicates(subset=['games_id', 'visitor_team_id'], keep='first')"
   ]
  },
  {
   "cell_type": "code",
   "execution_count": 69,
   "id": "02409a58",
   "metadata": {},
   "outputs": [],
   "source": [
    "games_hometeam=games_hometeam.rename(columns={\"game_id\":\"games_id\"}).drop_duplicates()"
   ]
  },
  {
   "cell_type": "code",
   "execution_count": 70,
   "id": "7145ee2f",
   "metadata": {},
   "outputs": [],
   "source": [
    "games_hometeam=games_hometeam.drop_duplicates(subset=['games_id', 'home_team_id'], keep='first')"
   ]
  },
  {
   "cell_type": "code",
   "execution_count": 71,
   "id": "da26ab67",
   "metadata": {},
   "outputs": [],
   "source": [
    "games=games.drop_duplicates()"
   ]
  },
  {
   "cell_type": "markdown",
   "id": "32cbb28b",
   "metadata": {},
   "source": [
    "# ETL"
   ]
  },
  {
   "cell_type": "code",
   "execution_count": 3,
   "id": "da6f78af",
   "metadata": {},
   "outputs": [],
   "source": [
    "import sqlalchemy as sa\n",
    "from sqlalchemy import create_engine\n",
    "import matplotlib.pyplot as plt\n",
    "import psycopg2"
   ]
  },
  {
   "cell_type": "code",
   "execution_count": 201,
   "id": "81be2e7e",
   "metadata": {},
   "outputs": [],
   "source": [
    "hostname = 'pgsql9.c0ttp4tkwo66.us-east-1.rds.amazonaws.com'\n",
    "username = 'pgsql9'\n",
    "password = 'columbia9'\n",
    "database = 'pgsql9'\n"
   ]
  },
  {
   "cell_type": "code",
   "execution_count": 202,
   "id": "cf05b67f",
   "metadata": {},
   "outputs": [],
   "source": [
    "conn_url = 'postgresql://' + username + ':' + password + '@' + hostname\n",
    "\n",
    "# create the db engine\n",
    "engine = create_engine(conn_url)\n",
    "\n",
    "# add a conenction\n",
    "connection = engine.connect()"
   ]
  },
  {
   "cell_type": "markdown",
   "id": "ad9abda1",
   "metadata": {},
   "source": [
    "## Create Table"
   ]
  },
  {
   "cell_type": "code",
   "execution_count": 5,
   "id": "9cdf899d",
   "metadata": {},
   "outputs": [],
   "source": [
    "cmd=\"\"\"\n",
    "Drop Table Game_Details, Ranking,Player_Team, Games_Player_Teams,Games_HomeTeam,Games_VisitorTeam,Games,game_location_info,Player,Team\n",
    "\"\"\""
   ]
  },
  {
   "cell_type": "code",
   "execution_count": 6,
   "id": "129c748f",
   "metadata": {},
   "outputs": [],
   "source": [
    "cur.execute(cmd)\n",
    "conn.commit()"
   ]
  },
  {
   "cell_type": "code",
   "execution_count": 160,
   "id": "73fcc6c6",
   "metadata": {},
   "outputs": [],
   "source": [
    "cmd=\"\"\"\n",
    "CREATE TABLE game_location_info (\n",
    "Arena_id int4 Primary Key,\n",
    "Arena varchar(30),\n",
    "Arenacapacity numeric(10,2)\n",
    ");\n",
    "\n",
    "\n",
    "CREATE TABLE games(\n",
    "Games_id int8 PRIMARY KEY,\n",
    "Game_date_est date,\n",
    "Season int4,\n",
    "Home_team_wins char(1),\n",
    "Arena_id int4 NOT NULL REFERENCES game_location_info(Arena_id)\n",
    ");\n",
    "\n",
    "CREATE TABLE games_hometeam (\n",
    "Games_id int8,\n",
    "Home_team_id int8,\n",
    "PTS int4,\n",
    "FG_PCT numeric(4,3),\n",
    "FT_PCT numeric(4,3),\n",
    "FG3_PCT numeric(4,3),\n",
    "AST int2,\n",
    "REB int2,\n",
    "PRIMARY KEY (Games_id, Home_team_id),\n",
    "FOREIGN KEY (Games_id) references games\n",
    ");\n",
    "\n",
    "CREATE TABLE games_visitorteam (\n",
    "Games_id int8,\n",
    "Visitor_team_id int8,\n",
    "PTS int4,\n",
    "FG_PCT numeric(4,3),\n",
    "FT_PCT numeric(4,3),\n",
    "FG3_PCT numeric(4,3),\n",
    "AST int2,\n",
    "REB int2,\n",
    "PRIMARY KEY (Games_id, Visitor_team_id),\n",
    "FOREIGN KEY (games_id) references games\n",
    ");\n",
    "\n",
    "\n",
    "CREATE TABLE player\n",
    "(Player_id varchar(10),\n",
    " Player_name varchar(50),\n",
    " Player_Nickname varchar(50),\n",
    " PRIMARY KEY (Player_id)\n",
    ");\n",
    "\n",
    "Create Table team(\n",
    " Team_id INT8,\n",
    " min_year INT,\n",
    " Abbreviation varchar(3),\n",
    " Team_nickname varchar(20),\n",
    " Yearfounded int,\n",
    " Owner varchar(50),\n",
    " Generalmanager varchar(50),\n",
    " Headcoach varchar(50),\n",
    " Conference varchar(4),\n",
    " Team_city varchar(20),\n",
    " PRIMARY KEY (Team_id)\n",
    ");\n",
    "\n",
    "CREATE Table games_player_teams(\n",
    "Games_id int8,\n",
    "Team_id int8,\n",
    "Player_id varchar(10),\n",
    "PRIMARY KEY (Games_id, Team_id, Player_id),\n",
    "FOREIGN KEY (Games_id) references games,\n",
    "FOREIGN KEY (Team_id) references team,\n",
    "FOREIGN KEY (Player_id) references player\n",
    ");\n",
    "\n",
    "\n",
    "\n",
    "CREATE TABLE player_team\n",
    "(Season INT,\n",
    " Player_id varchar(10),\n",
    " Team_id INT8,\n",
    " PRIMARY KEY (Season, Player_id),\n",
    " FOREIGN KEY (Team_id) references team,\n",
    " FOREIGN KEY (Player_id) references player\n",
    ");\n",
    "\n",
    "CREATE TABLE ranking\n",
    "(Standingdate date,\n",
    " Team_id INT8 ,\n",
    " Number_of_Games INT,\n",
    " Winning_Games INT,\n",
    " Losing_Games INT,\n",
    " Home_record varchar(10),\n",
    " Road_record varchar(10),\n",
    " W_PCT numeric(4,3),\n",
    " PRIMARY KEY (Standingdate, Team_id),\n",
    " FOREIGN KEY (Team_id) References Team);\n",
    "\n",
    "CREATE Table game_details(\n",
    "Games_id int8,\n",
    "Player_id varchar(10),\n",
    "Start_position char(1),\n",
    "Comment varchar(50),\n",
    "FGM int,\n",
    "FGA int,\n",
    "FG_PCT numeric(4,3),\n",
    "FG3M int,\n",
    "FG3A int,\n",
    "FG3_PCT numeric(4,3),\n",
    "FTM int,\n",
    "FTA int,\n",
    "FT_PCT numeric(4,3),\n",
    "OREB INT,\n",
    "DREB INT,\n",
    "REB INT,\n",
    "AST INT,\n",
    "STL INT,\n",
    "BLK INT,\n",
    "num_To INT,\n",
    "PF INT,\n",
    "PTS INT,\n",
    "Plus_minus int,\n",
    "PRIMARY KEY (Games_id,  Player_id),\n",
    "FOREIGN KEY (Games_id) references Games,\n",
    "FOREIGN KEY (Player_id) references Player\n",
    ");\n",
    "\n",
    "\"\"\"\n",
    "\n"
   ]
  },
  {
   "cell_type": "code",
   "execution_count": null,
   "id": "62914d20",
   "metadata": {},
   "outputs": [],
   "source": []
  },
  {
   "cell_type": "code",
   "execution_count": 161,
   "id": "e70f5d5a",
   "metadata": {},
   "outputs": [
    {
     "data": {
      "text/plain": [
       "<sqlalchemy.engine.cursor.LegacyCursorResult at 0x116daa800>"
      ]
     },
     "execution_count": 161,
     "metadata": {},
     "output_type": "execute_result"
    }
   ],
   "source": [
    "connection.execute(cmd)"
   ]
  },
  {
   "cell_type": "markdown",
   "id": "f3b6d625",
   "metadata": {},
   "source": [
    "## Import Data"
   ]
  },
  {
   "cell_type": "code",
   "execution_count": 162,
   "id": "0b139ab3",
   "metadata": {},
   "outputs": [],
   "source": [
    "game_location_info.to_sql(name=\"game_location_info\", con=engine, if_exists='append', index=False)"
   ]
  },
  {
   "cell_type": "code",
   "execution_count": 163,
   "id": "0a19d136",
   "metadata": {},
   "outputs": [],
   "source": [
    "games.to_sql(name=\"games\", con=engine, if_exists='append', index=False)"
   ]
  },
  {
   "cell_type": "code",
   "execution_count": 164,
   "id": "b8bfed33",
   "metadata": {},
   "outputs": [],
   "source": [
    "games_hometeam.to_sql(name=\"games_hometeam\", con=engine, if_exists='append', index=False)"
   ]
  },
  {
   "cell_type": "code",
   "execution_count": 165,
   "id": "4d710099",
   "metadata": {},
   "outputs": [],
   "source": [
    "games_visitorteam.to_sql(name=\"games_visitorteam\", con=engine, if_exists='append', index=False)"
   ]
  },
  {
   "cell_type": "code",
   "execution_count": 166,
   "id": "560a721b",
   "metadata": {},
   "outputs": [],
   "source": [
    "player.to_sql(name=\"player\", con=engine, if_exists='append', index=False)"
   ]
  },
  {
   "cell_type": "code",
   "execution_count": 167,
   "id": "fc8742c1",
   "metadata": {},
   "outputs": [],
   "source": [
    "team.to_sql(name=\"team\", con=engine, if_exists='append', index=False)"
   ]
  },
  {
   "cell_type": "code",
   "execution_count": 168,
   "id": "fc330939",
   "metadata": {},
   "outputs": [],
   "source": [
    "player_team.to_sql(name=\"player_team\", con=engine, if_exists='append', index=False)"
   ]
  },
  {
   "cell_type": "code",
   "execution_count": 169,
   "id": "41b15f00",
   "metadata": {},
   "outputs": [],
   "source": [
    "games_player_teams.to_sql(name=\"games_player_teams\", con=engine, if_exists='append', index=False)"
   ]
  },
  {
   "cell_type": "code",
   "execution_count": 170,
   "id": "e0f5b464",
   "metadata": {},
   "outputs": [],
   "source": [
    "ranking.to_sql(name=\"ranking\", con=engine, if_exists='append', index=False)"
   ]
  },
  {
   "cell_type": "code",
   "execution_count": 171,
   "id": "b478bedb",
   "metadata": {},
   "outputs": [],
   "source": [
    "game_details.to_sql(name=\"game_details\", con=engine, if_exists='append', index=False)"
   ]
  },
  {
   "cell_type": "markdown",
   "id": "fb52f65f",
   "metadata": {},
   "source": [
    "## 10 procedures"
   ]
  },
  {
   "cell_type": "markdown",
   "id": "14be3818",
   "metadata": {},
   "source": [
    "### 1. Who are top 100 players that have the highest total scores (from 2018-2022)?"
   ]
  },
  {
   "cell_type": "code",
   "execution_count": 172,
   "id": "2e8b8451",
   "metadata": {},
   "outputs": [],
   "source": [
    "cmd1 = \"\"\"\n",
    "create or replace view top100_by_score\n",
    "as\n",
    "select *\n",
    "from\n",
    "(select *, dense_rank() over (order by total_score DESC) as total_rank\n",
    "from\n",
    "(select player_id, p.player_name, sum(PTS) total_score\n",
    "from game_details \n",
    "join player p\n",
    "using (player_id)\n",
    "group by player_id,player_name\n",
    "having sum(PF) is not NUll) sub1\n",
    "order by total_rank) sub2\n",
    "where total_rank <= 100;\n",
    " \n",
    "select * from top100_by_score\n",
    "\n",
    "\"\"\""
   ]
  },
  {
   "cell_type": "code",
   "execution_count": 173,
   "id": "89de0323",
   "metadata": {},
   "outputs": [],
   "source": [
    "result1 = connection.execute(cmd1).fetchall()"
   ]
  },
  {
   "cell_type": "code",
   "execution_count": 174,
   "id": "cf981d82",
   "metadata": {},
   "outputs": [
    {
     "data": {
      "text/html": [
       "<div>\n",
       "<style scoped>\n",
       "    .dataframe tbody tr th:only-of-type {\n",
       "        vertical-align: middle;\n",
       "    }\n",
       "\n",
       "    .dataframe tbody tr th {\n",
       "        vertical-align: top;\n",
       "    }\n",
       "\n",
       "    .dataframe thead th {\n",
       "        text-align: right;\n",
       "    }\n",
       "</style>\n",
       "<table border=\"1\" class=\"dataframe\">\n",
       "  <thead>\n",
       "    <tr style=\"text-align: right;\">\n",
       "      <th></th>\n",
       "      <th>player_id</th>\n",
       "      <th>player_name</th>\n",
       "      <th>total_score</th>\n",
       "      <th>total_rank</th>\n",
       "    </tr>\n",
       "  </thead>\n",
       "  <tbody>\n",
       "    <tr>\n",
       "      <th>0</th>\n",
       "      <td>201935</td>\n",
       "      <td>James Harden</td>\n",
       "      <td>10205</td>\n",
       "      <td>1</td>\n",
       "    </tr>\n",
       "    <tr>\n",
       "      <th>1</th>\n",
       "      <td>203507</td>\n",
       "      <td>Giannis Antetokounmpo</td>\n",
       "      <td>10105</td>\n",
       "      <td>2</td>\n",
       "    </tr>\n",
       "    <tr>\n",
       "      <th>2</th>\n",
       "      <td>203081</td>\n",
       "      <td>Damian Lillard</td>\n",
       "      <td>8851</td>\n",
       "      <td>3</td>\n",
       "    </tr>\n",
       "    <tr>\n",
       "      <th>3</th>\n",
       "      <td>203999</td>\n",
       "      <td>Nikola Jokic</td>\n",
       "      <td>8771</td>\n",
       "      <td>4</td>\n",
       "    </tr>\n",
       "    <tr>\n",
       "      <th>4</th>\n",
       "      <td>2544</td>\n",
       "      <td>LeBron James</td>\n",
       "      <td>8728</td>\n",
       "      <td>5</td>\n",
       "    </tr>\n",
       "    <tr>\n",
       "      <th>...</th>\n",
       "      <td>...</td>\n",
       "      <td>...</td>\n",
       "      <td>...</td>\n",
       "      <td>...</td>\n",
       "    </tr>\n",
       "    <tr>\n",
       "      <th>96</th>\n",
       "      <td>200755</td>\n",
       "      <td>JJ Redick</td>\n",
       "      <td>3737</td>\n",
       "      <td>96</td>\n",
       "    </tr>\n",
       "    <tr>\n",
       "      <th>97</th>\n",
       "      <td>1627854</td>\n",
       "      <td>Bryn Forbes</td>\n",
       "      <td>3736</td>\n",
       "      <td>97</td>\n",
       "    </tr>\n",
       "    <tr>\n",
       "      <th>98</th>\n",
       "      <td>201143</td>\n",
       "      <td>Al Horford</td>\n",
       "      <td>3714</td>\n",
       "      <td>98</td>\n",
       "    </tr>\n",
       "    <tr>\n",
       "      <th>99</th>\n",
       "      <td>202691</td>\n",
       "      <td>Klay Thompson</td>\n",
       "      <td>3700</td>\n",
       "      <td>99</td>\n",
       "    </tr>\n",
       "    <tr>\n",
       "      <th>100</th>\n",
       "      <td>203500</td>\n",
       "      <td>Steven Adams</td>\n",
       "      <td>3671</td>\n",
       "      <td>100</td>\n",
       "    </tr>\n",
       "  </tbody>\n",
       "</table>\n",
       "<p>101 rows × 4 columns</p>\n",
       "</div>"
      ],
      "text/plain": [
       "    player_id            player_name  total_score  total_rank\n",
       "0      201935           James Harden        10205           1\n",
       "1      203507  Giannis Antetokounmpo        10105           2\n",
       "2      203081         Damian Lillard         8851           3\n",
       "3      203999           Nikola Jokic         8771           4\n",
       "4        2544           LeBron James         8728           5\n",
       "..        ...                    ...          ...         ...\n",
       "96     200755              JJ Redick         3737          96\n",
       "97    1627854            Bryn Forbes         3736          97\n",
       "98     201143             Al Horford         3714          98\n",
       "99     202691          Klay Thompson         3700          99\n",
       "100    203500           Steven Adams         3671         100\n",
       "\n",
       "[101 rows x 4 columns]"
      ]
     },
     "execution_count": 174,
     "metadata": {},
     "output_type": "execute_result"
    }
   ],
   "source": [
    "column_names = result1[0].keys()\n",
    "result1=pd.DataFrame(result1, columns=column_names)\n",
    "result1"
   ]
  },
  {
   "cell_type": "markdown",
   "id": "d62f0be5",
   "metadata": {},
   "source": [
    "### 2. What is the number of total games that each player played in each season, and the number of games that a player gets 3-pointers in each season?\n"
   ]
  },
  {
   "cell_type": "code",
   "execution_count": 175,
   "id": "7e42c980",
   "metadata": {},
   "outputs": [],
   "source": [
    "cmd2 = \"\"\"\n",
    "create or replace view count_of_3point\n",
    "as\n",
    "(select season, player_id, count(games_id) count_3point\n",
    "from\n",
    "(select games_id, player_id, fg3m, season\n",
    "from game_details\n",
    "join games\n",
    "using(games_id)\n",
    "where fg3m>0) point_game\n",
    "group by season, player_id\n",
    "order by season, count_3point DESC);\n",
    " \n",
    "select * from count_of_3point;\n",
    "\"\"\""
   ]
  },
  {
   "cell_type": "code",
   "execution_count": 203,
   "id": "1c1b6c5f",
   "metadata": {},
   "outputs": [],
   "source": [
    "cmd2_1=\"\"\"\n",
    "create or replace view count_of_total\n",
    "as\n",
    "(select season, player_id, count(games_id) total_games\n",
    "from\n",
    "(select g.season, gpt.games_id, gpt.player_id\n",
    "from games_player_teams gpt\n",
    "join games g\n",
    "using(games_id)) sub1\n",
    "group by season, player_id\n",
    "order by season, total_games DESC);\n",
    " \n",
    "select * from count_of_total;\n",
    "\"\"\""
   ]
  },
  {
   "cell_type": "code",
   "execution_count": 204,
   "id": "d3a294ec",
   "metadata": {},
   "outputs": [
    {
     "data": {
      "text/html": [
       "<div>\n",
       "<style scoped>\n",
       "    .dataframe tbody tr th:only-of-type {\n",
       "        vertical-align: middle;\n",
       "    }\n",
       "\n",
       "    .dataframe tbody tr th {\n",
       "        vertical-align: top;\n",
       "    }\n",
       "\n",
       "    .dataframe thead th {\n",
       "        text-align: right;\n",
       "    }\n",
       "</style>\n",
       "<table border=\"1\" class=\"dataframe\">\n",
       "  <thead>\n",
       "    <tr style=\"text-align: right;\">\n",
       "      <th></th>\n",
       "      <th>season</th>\n",
       "      <th>player_id</th>\n",
       "      <th>total_games</th>\n",
       "    </tr>\n",
       "  </thead>\n",
       "  <tbody>\n",
       "    <tr>\n",
       "      <th>0</th>\n",
       "      <td>2017</td>\n",
       "      <td>203903</td>\n",
       "      <td>68</td>\n",
       "    </tr>\n",
       "    <tr>\n",
       "      <th>1</th>\n",
       "      <td>2017</td>\n",
       "      <td>2544</td>\n",
       "      <td>68</td>\n",
       "    </tr>\n",
       "    <tr>\n",
       "      <th>2</th>\n",
       "      <td>2017</td>\n",
       "      <td>2747</td>\n",
       "      <td>67</td>\n",
       "    </tr>\n",
       "    <tr>\n",
       "      <th>3</th>\n",
       "      <td>2017</td>\n",
       "      <td>2585</td>\n",
       "      <td>66</td>\n",
       "    </tr>\n",
       "    <tr>\n",
       "      <th>4</th>\n",
       "      <td>2017</td>\n",
       "      <td>201156</td>\n",
       "      <td>66</td>\n",
       "    </tr>\n",
       "    <tr>\n",
       "      <th>...</th>\n",
       "      <td>...</td>\n",
       "      <td>...</td>\n",
       "      <td>...</td>\n",
       "    </tr>\n",
       "    <tr>\n",
       "      <th>3052</th>\n",
       "      <td>2021</td>\n",
       "      <td>1630777</td>\n",
       "      <td>1</td>\n",
       "    </tr>\n",
       "    <tr>\n",
       "      <th>3053</th>\n",
       "      <td>2021</td>\n",
       "      <td>1630791</td>\n",
       "      <td>1</td>\n",
       "    </tr>\n",
       "    <tr>\n",
       "      <th>3054</th>\n",
       "      <td>2021</td>\n",
       "      <td>1630672</td>\n",
       "      <td>1</td>\n",
       "    </tr>\n",
       "    <tr>\n",
       "      <th>3055</th>\n",
       "      <td>2021</td>\n",
       "      <td>1629017</td>\n",
       "      <td>1</td>\n",
       "    </tr>\n",
       "    <tr>\n",
       "      <th>3056</th>\n",
       "      <td>2021</td>\n",
       "      <td>1630675</td>\n",
       "      <td>1</td>\n",
       "    </tr>\n",
       "  </tbody>\n",
       "</table>\n",
       "<p>3057 rows × 3 columns</p>\n",
       "</div>"
      ],
      "text/plain": [
       "      season player_id  total_games\n",
       "0       2017    203903           68\n",
       "1       2017      2544           68\n",
       "2       2017      2747           67\n",
       "3       2017      2585           66\n",
       "4       2017    201156           66\n",
       "...      ...       ...          ...\n",
       "3052    2021   1630777            1\n",
       "3053    2021   1630791            1\n",
       "3054    2021   1630672            1\n",
       "3055    2021   1629017            1\n",
       "3056    2021   1630675            1\n",
       "\n",
       "[3057 rows x 3 columns]"
      ]
     },
     "execution_count": 204,
     "metadata": {},
     "output_type": "execute_result"
    }
   ],
   "source": [
    "result2_1 = connection.execute(cmd2_1).fetchall()\n",
    "column_names = result2_1[0].keys()\n",
    "result2_1=pd.DataFrame(result2_1, columns=column_names)\n",
    "result2_1"
   ]
  },
  {
   "cell_type": "code",
   "execution_count": 178,
   "id": "b35d971e",
   "metadata": {},
   "outputs": [
    {
     "data": {
      "text/html": [
       "<div>\n",
       "<style scoped>\n",
       "    .dataframe tbody tr th:only-of-type {\n",
       "        vertical-align: middle;\n",
       "    }\n",
       "\n",
       "    .dataframe tbody tr th {\n",
       "        vertical-align: top;\n",
       "    }\n",
       "\n",
       "    .dataframe thead th {\n",
       "        text-align: right;\n",
       "    }\n",
       "</style>\n",
       "<table border=\"1\" class=\"dataframe\">\n",
       "  <thead>\n",
       "    <tr style=\"text-align: right;\">\n",
       "      <th></th>\n",
       "      <th>season</th>\n",
       "      <th>player_id</th>\n",
       "      <th>count_3point</th>\n",
       "    </tr>\n",
       "  </thead>\n",
       "  <tbody>\n",
       "    <tr>\n",
       "      <th>0</th>\n",
       "      <td>2017</td>\n",
       "      <td>202691</td>\n",
       "      <td>54</td>\n",
       "    </tr>\n",
       "    <tr>\n",
       "      <th>1</th>\n",
       "      <td>2017</td>\n",
       "      <td>204060</td>\n",
       "      <td>53</td>\n",
       "    </tr>\n",
       "    <tr>\n",
       "      <th>2</th>\n",
       "      <td>2017</td>\n",
       "      <td>1626179</td>\n",
       "      <td>53</td>\n",
       "    </tr>\n",
       "    <tr>\n",
       "      <th>3</th>\n",
       "      <td>2017</td>\n",
       "      <td>203496</td>\n",
       "      <td>52</td>\n",
       "    </tr>\n",
       "    <tr>\n",
       "      <th>4</th>\n",
       "      <td>2017</td>\n",
       "      <td>1628378</td>\n",
       "      <td>52</td>\n",
       "    </tr>\n",
       "    <tr>\n",
       "      <th>...</th>\n",
       "      <td>...</td>\n",
       "      <td>...</td>\n",
       "      <td>...</td>\n",
       "    </tr>\n",
       "    <tr>\n",
       "      <th>2440</th>\n",
       "      <td>2021</td>\n",
       "      <td>1629619</td>\n",
       "      <td>1</td>\n",
       "    </tr>\n",
       "    <tr>\n",
       "      <th>2441</th>\n",
       "      <td>2021</td>\n",
       "      <td>203920</td>\n",
       "      <td>1</td>\n",
       "    </tr>\n",
       "    <tr>\n",
       "      <th>2442</th>\n",
       "      <td>2021</td>\n",
       "      <td>1627782</td>\n",
       "      <td>1</td>\n",
       "    </tr>\n",
       "    <tr>\n",
       "      <th>2443</th>\n",
       "      <td>2021</td>\n",
       "      <td>1629686</td>\n",
       "      <td>1</td>\n",
       "    </tr>\n",
       "    <tr>\n",
       "      <th>2444</th>\n",
       "      <td>2021</td>\n",
       "      <td>1629617</td>\n",
       "      <td>1</td>\n",
       "    </tr>\n",
       "  </tbody>\n",
       "</table>\n",
       "<p>2445 rows × 3 columns</p>\n",
       "</div>"
      ],
      "text/plain": [
       "      season player_id  count_3point\n",
       "0       2017    202691            54\n",
       "1       2017    204060            53\n",
       "2       2017   1626179            53\n",
       "3       2017    203496            52\n",
       "4       2017   1628378            52\n",
       "...      ...       ...           ...\n",
       "2440    2021   1629619             1\n",
       "2441    2021    203920             1\n",
       "2442    2021   1627782             1\n",
       "2443    2021   1629686             1\n",
       "2444    2021   1629617             1\n",
       "\n",
       "[2445 rows x 3 columns]"
      ]
     },
     "execution_count": 178,
     "metadata": {},
     "output_type": "execute_result"
    }
   ],
   "source": [
    "result2 = connection.execute(cmd2).fetchall()\n",
    "column_names = result2[0].keys()\n",
    "result2=pd.DataFrame(result2, columns=column_names)\n",
    "result2"
   ]
  },
  {
   "cell_type": "markdown",
   "id": "d1e8f889",
   "metadata": {},
   "source": [
    "### 3. What is the probability of games that players made 3-pointers compared to the total games he played in each season?"
   ]
  },
  {
   "cell_type": "code",
   "execution_count": 179,
   "id": "a5e8f2fb",
   "metadata": {},
   "outputs": [],
   "source": [
    "cmd3 = \"\"\"\n",
    "create or replace view percentage_of_3point\n",
    "as\n",
    "(select season, player_id, player_name, round((count_3point* 100.0 /total_games),2) as avg_3point\n",
    "from\n",
    "(select count_of_3point.season, count_of_3point.player_id, total_games, count_3point\n",
    "from count_of_total\n",
    "left join count_of_3point\n",
    "using(season,player_id)\n",
    "order by season) sub1\n",
    "join player\n",
    "using(player_id)\n",
    "order by season, avg_3point DESC);\n",
    " \n",
    "select * from percentage_of_3point;\n",
    "\"\"\""
   ]
  },
  {
   "cell_type": "code",
   "execution_count": 180,
   "id": "955c7899",
   "metadata": {},
   "outputs": [
    {
     "data": {
      "text/html": [
       "<div>\n",
       "<style scoped>\n",
       "    .dataframe tbody tr th:only-of-type {\n",
       "        vertical-align: middle;\n",
       "    }\n",
       "\n",
       "    .dataframe tbody tr th {\n",
       "        vertical-align: top;\n",
       "    }\n",
       "\n",
       "    .dataframe thead th {\n",
       "        text-align: right;\n",
       "    }\n",
       "</style>\n",
       "<table border=\"1\" class=\"dataframe\">\n",
       "  <thead>\n",
       "    <tr style=\"text-align: right;\">\n",
       "      <th></th>\n",
       "      <th>season</th>\n",
       "      <th>player_id</th>\n",
       "      <th>player_name</th>\n",
       "      <th>avg_3point</th>\n",
       "    </tr>\n",
       "  </thead>\n",
       "  <tbody>\n",
       "    <tr>\n",
       "      <th>0</th>\n",
       "      <td>2017</td>\n",
       "      <td>201281</td>\n",
       "      <td>Andre Ingram</td>\n",
       "      <td>100.00</td>\n",
       "    </tr>\n",
       "    <tr>\n",
       "      <th>1</th>\n",
       "      <td>2017</td>\n",
       "      <td>203081</td>\n",
       "      <td>Damian Lillard</td>\n",
       "      <td>97.83</td>\n",
       "    </tr>\n",
       "    <tr>\n",
       "      <th>2</th>\n",
       "      <td>2017</td>\n",
       "      <td>201939</td>\n",
       "      <td>Stephen Curry</td>\n",
       "      <td>97.62</td>\n",
       "    </tr>\n",
       "    <tr>\n",
       "      <th>3</th>\n",
       "      <td>2017</td>\n",
       "      <td>200768</td>\n",
       "      <td>Kyle Lowry</td>\n",
       "      <td>96.30</td>\n",
       "    </tr>\n",
       "    <tr>\n",
       "      <th>4</th>\n",
       "      <td>2017</td>\n",
       "      <td>200755</td>\n",
       "      <td>JJ Redick</td>\n",
       "      <td>95.92</td>\n",
       "    </tr>\n",
       "    <tr>\n",
       "      <th>...</th>\n",
       "      <td>...</td>\n",
       "      <td>...</td>\n",
       "      <td>...</td>\n",
       "      <td>...</td>\n",
       "    </tr>\n",
       "    <tr>\n",
       "      <th>2440</th>\n",
       "      <td>2021</td>\n",
       "      <td>1629646</td>\n",
       "      <td>None</td>\n",
       "      <td>1.56</td>\n",
       "    </tr>\n",
       "    <tr>\n",
       "      <th>2441</th>\n",
       "      <td>2021</td>\n",
       "      <td>202684</td>\n",
       "      <td>Tristan Thompson</td>\n",
       "      <td>1.49</td>\n",
       "    </tr>\n",
       "    <tr>\n",
       "      <th>2442</th>\n",
       "      <td>2021</td>\n",
       "      <td>2617</td>\n",
       "      <td>Udonis Haslem</td>\n",
       "      <td>1.47</td>\n",
       "    </tr>\n",
       "    <tr>\n",
       "      <th>2443</th>\n",
       "      <td>2021</td>\n",
       "      <td>1630233</td>\n",
       "      <td>None</td>\n",
       "      <td>1.47</td>\n",
       "    </tr>\n",
       "    <tr>\n",
       "      <th>2444</th>\n",
       "      <td>2021</td>\n",
       "      <td>203648</td>\n",
       "      <td>Thanasis Antetokounmpo</td>\n",
       "      <td>1.41</td>\n",
       "    </tr>\n",
       "  </tbody>\n",
       "</table>\n",
       "<p>2445 rows × 4 columns</p>\n",
       "</div>"
      ],
      "text/plain": [
       "      season player_id             player_name avg_3point\n",
       "0       2017    201281            Andre Ingram     100.00\n",
       "1       2017    203081          Damian Lillard      97.83\n",
       "2       2017    201939           Stephen Curry      97.62\n",
       "3       2017    200768              Kyle Lowry      96.30\n",
       "4       2017    200755               JJ Redick      95.92\n",
       "...      ...       ...                     ...        ...\n",
       "2440    2021   1629646                    None       1.56\n",
       "2441    2021    202684        Tristan Thompson       1.49\n",
       "2442    2021      2617           Udonis Haslem       1.47\n",
       "2443    2021   1630233                    None       1.47\n",
       "2444    2021    203648  Thanasis Antetokounmpo       1.41\n",
       "\n",
       "[2445 rows x 4 columns]"
      ]
     },
     "execution_count": 180,
     "metadata": {},
     "output_type": "execute_result"
    }
   ],
   "source": [
    "result3 = connection.execute(cmd3).fetchall()\n",
    "column_names = result3[0].keys()\n",
    "result3=pd.DataFrame(result3, columns=column_names)\n",
    "result3"
   ]
  },
  {
   "cell_type": "markdown",
   "id": "68e63f91",
   "metadata": {},
   "source": [
    "### 4. Which players in season 2021 in the top 100 list are also the players who wins 3-pointers in more than 90% of games he joined?(with their rankings in top100 list)?"
   ]
  },
  {
   "cell_type": "code",
   "execution_count": 181,
   "id": "62a6a5a3",
   "metadata": {},
   "outputs": [],
   "source": [
    "cmd4 = \"\"\"\n",
    "select DISTINCT top100_by_score.player_name, team_nickname, total_rank\n",
    "from percentage_of_3point\n",
    "join top100_by_score\n",
    "using(player_id)\n",
    "join player_team\n",
    "using (player_id)\n",
    "join team \n",
    "using(team_id)\n",
    "where avg_3point>90 and player_id in (select player_id from top100_by_score) and player_team.season=2021\n",
    "order by total_rank\n",
    "\"\"\""
   ]
  },
  {
   "cell_type": "code",
   "execution_count": 182,
   "id": "471cc4f5",
   "metadata": {},
   "outputs": [
    {
     "data": {
      "text/html": [
       "<div>\n",
       "<style scoped>\n",
       "    .dataframe tbody tr th:only-of-type {\n",
       "        vertical-align: middle;\n",
       "    }\n",
       "\n",
       "    .dataframe tbody tr th {\n",
       "        vertical-align: top;\n",
       "    }\n",
       "\n",
       "    .dataframe thead th {\n",
       "        text-align: right;\n",
       "    }\n",
       "</style>\n",
       "<table border=\"1\" class=\"dataframe\">\n",
       "  <thead>\n",
       "    <tr style=\"text-align: right;\">\n",
       "      <th></th>\n",
       "      <th>player_name</th>\n",
       "      <th>team_nickname</th>\n",
       "      <th>total_rank</th>\n",
       "    </tr>\n",
       "  </thead>\n",
       "  <tbody>\n",
       "    <tr>\n",
       "      <th>0</th>\n",
       "      <td>James Harden</td>\n",
       "      <td>76ers</td>\n",
       "      <td>1</td>\n",
       "    </tr>\n",
       "    <tr>\n",
       "      <th>1</th>\n",
       "      <td>Damian Lillard</td>\n",
       "      <td>Trail Blazers</td>\n",
       "      <td>3</td>\n",
       "    </tr>\n",
       "    <tr>\n",
       "      <th>2</th>\n",
       "      <td>Donovan Mitchell</td>\n",
       "      <td>Jazz</td>\n",
       "      <td>6</td>\n",
       "    </tr>\n",
       "    <tr>\n",
       "      <th>3</th>\n",
       "      <td>Bradley Beal</td>\n",
       "      <td>Wizards</td>\n",
       "      <td>7</td>\n",
       "    </tr>\n",
       "    <tr>\n",
       "      <th>4</th>\n",
       "      <td>Jayson Tatum</td>\n",
       "      <td>Celtics</td>\n",
       "      <td>9</td>\n",
       "    </tr>\n",
       "    <tr>\n",
       "      <th>5</th>\n",
       "      <td>Stephen Curry</td>\n",
       "      <td>Warriors</td>\n",
       "      <td>12</td>\n",
       "    </tr>\n",
       "    <tr>\n",
       "      <th>6</th>\n",
       "      <td>Paul George</td>\n",
       "      <td>Clippers</td>\n",
       "      <td>15</td>\n",
       "    </tr>\n",
       "    <tr>\n",
       "      <th>7</th>\n",
       "      <td>Trae Young</td>\n",
       "      <td>Hawks</td>\n",
       "      <td>16</td>\n",
       "    </tr>\n",
       "    <tr>\n",
       "      <th>8</th>\n",
       "      <td>Luka Doncic</td>\n",
       "      <td>Mavericks</td>\n",
       "      <td>17</td>\n",
       "    </tr>\n",
       "    <tr>\n",
       "      <th>9</th>\n",
       "      <td>CJ McCollum</td>\n",
       "      <td>Pelicans</td>\n",
       "      <td>19</td>\n",
       "    </tr>\n",
       "    <tr>\n",
       "      <th>10</th>\n",
       "      <td>Karl-Anthony Towns</td>\n",
       "      <td>Timberwolves</td>\n",
       "      <td>21</td>\n",
       "    </tr>\n",
       "    <tr>\n",
       "      <th>11</th>\n",
       "      <td>Zach LaVine</td>\n",
       "      <td>Bulls</td>\n",
       "      <td>23</td>\n",
       "    </tr>\n",
       "    <tr>\n",
       "      <th>12</th>\n",
       "      <td>Kevin Durant</td>\n",
       "      <td>Nets</td>\n",
       "      <td>24</td>\n",
       "    </tr>\n",
       "    <tr>\n",
       "      <th>13</th>\n",
       "      <td>Nikola Vucevic</td>\n",
       "      <td>Bulls</td>\n",
       "      <td>25</td>\n",
       "    </tr>\n",
       "    <tr>\n",
       "      <th>14</th>\n",
       "      <td>Jaylen Brown</td>\n",
       "      <td>Celtics</td>\n",
       "      <td>28</td>\n",
       "    </tr>\n",
       "    <tr>\n",
       "      <th>15</th>\n",
       "      <td>Bojan Bogdanovic</td>\n",
       "      <td>Jazz</td>\n",
       "      <td>29</td>\n",
       "    </tr>\n",
       "    <tr>\n",
       "      <th>16</th>\n",
       "      <td>Buddy Hield</td>\n",
       "      <td>Pacers</td>\n",
       "      <td>30</td>\n",
       "    </tr>\n",
       "    <tr>\n",
       "      <th>17</th>\n",
       "      <td>Kemba Walker</td>\n",
       "      <td>Knicks</td>\n",
       "      <td>31</td>\n",
       "    </tr>\n",
       "    <tr>\n",
       "      <th>18</th>\n",
       "      <td>Jordan Clarkson</td>\n",
       "      <td>Jazz</td>\n",
       "      <td>37</td>\n",
       "    </tr>\n",
       "    <tr>\n",
       "      <th>19</th>\n",
       "      <td>Terry Rozier</td>\n",
       "      <td>Hornets</td>\n",
       "      <td>39</td>\n",
       "    </tr>\n",
       "    <tr>\n",
       "      <th>20</th>\n",
       "      <td>D'Angelo Russell</td>\n",
       "      <td>Timberwolves</td>\n",
       "      <td>40</td>\n",
       "    </tr>\n",
       "    <tr>\n",
       "      <th>21</th>\n",
       "      <td>Harrison Barnes</td>\n",
       "      <td>Kings</td>\n",
       "      <td>46</td>\n",
       "    </tr>\n",
       "    <tr>\n",
       "      <th>22</th>\n",
       "      <td>Tim Hardaway Jr.</td>\n",
       "      <td>Mavericks</td>\n",
       "      <td>49</td>\n",
       "    </tr>\n",
       "    <tr>\n",
       "      <th>23</th>\n",
       "      <td>Kyle Lowry</td>\n",
       "      <td>Heat</td>\n",
       "      <td>50</td>\n",
       "    </tr>\n",
       "    <tr>\n",
       "      <th>24</th>\n",
       "      <td>Kyrie Irving</td>\n",
       "      <td>Nets</td>\n",
       "      <td>51</td>\n",
       "    </tr>\n",
       "    <tr>\n",
       "      <th>25</th>\n",
       "      <td>Evan Fournier</td>\n",
       "      <td>Knicks</td>\n",
       "      <td>54</td>\n",
       "    </tr>\n",
       "    <tr>\n",
       "      <th>26</th>\n",
       "      <td>Fred VanVleet</td>\n",
       "      <td>Raptors</td>\n",
       "      <td>57</td>\n",
       "    </tr>\n",
       "    <tr>\n",
       "      <th>27</th>\n",
       "      <td>Eric Gordon</td>\n",
       "      <td>Rockets</td>\n",
       "      <td>70</td>\n",
       "    </tr>\n",
       "    <tr>\n",
       "      <th>28</th>\n",
       "      <td>Bogdan Bogdanovic</td>\n",
       "      <td>Hawks</td>\n",
       "      <td>71</td>\n",
       "    </tr>\n",
       "    <tr>\n",
       "      <th>29</th>\n",
       "      <td>Mike Conley</td>\n",
       "      <td>Jazz</td>\n",
       "      <td>74</td>\n",
       "    </tr>\n",
       "    <tr>\n",
       "      <th>30</th>\n",
       "      <td>Joe Harris</td>\n",
       "      <td>Nets</td>\n",
       "      <td>80</td>\n",
       "    </tr>\n",
       "    <tr>\n",
       "      <th>31</th>\n",
       "      <td>Joe Ingles</td>\n",
       "      <td>Jazz</td>\n",
       "      <td>89</td>\n",
       "    </tr>\n",
       "    <tr>\n",
       "      <th>32</th>\n",
       "      <td>Bryn Forbes</td>\n",
       "      <td>Nuggets</td>\n",
       "      <td>97</td>\n",
       "    </tr>\n",
       "    <tr>\n",
       "      <th>33</th>\n",
       "      <td>Klay Thompson</td>\n",
       "      <td>Warriors</td>\n",
       "      <td>99</td>\n",
       "    </tr>\n",
       "  </tbody>\n",
       "</table>\n",
       "</div>"
      ],
      "text/plain": [
       "           player_name  team_nickname  total_rank\n",
       "0         James Harden          76ers           1\n",
       "1       Damian Lillard  Trail Blazers           3\n",
       "2     Donovan Mitchell           Jazz           6\n",
       "3         Bradley Beal        Wizards           7\n",
       "4         Jayson Tatum        Celtics           9\n",
       "5        Stephen Curry       Warriors          12\n",
       "6          Paul George       Clippers          15\n",
       "7           Trae Young          Hawks          16\n",
       "8          Luka Doncic      Mavericks          17\n",
       "9          CJ McCollum       Pelicans          19\n",
       "10  Karl-Anthony Towns   Timberwolves          21\n",
       "11         Zach LaVine          Bulls          23\n",
       "12        Kevin Durant           Nets          24\n",
       "13      Nikola Vucevic          Bulls          25\n",
       "14        Jaylen Brown        Celtics          28\n",
       "15    Bojan Bogdanovic           Jazz          29\n",
       "16         Buddy Hield         Pacers          30\n",
       "17        Kemba Walker         Knicks          31\n",
       "18     Jordan Clarkson           Jazz          37\n",
       "19        Terry Rozier        Hornets          39\n",
       "20    D'Angelo Russell   Timberwolves          40\n",
       "21     Harrison Barnes          Kings          46\n",
       "22    Tim Hardaway Jr.      Mavericks          49\n",
       "23          Kyle Lowry           Heat          50\n",
       "24        Kyrie Irving           Nets          51\n",
       "25       Evan Fournier         Knicks          54\n",
       "26       Fred VanVleet        Raptors          57\n",
       "27         Eric Gordon        Rockets          70\n",
       "28   Bogdan Bogdanovic          Hawks          71\n",
       "29         Mike Conley           Jazz          74\n",
       "30          Joe Harris           Nets          80\n",
       "31          Joe Ingles           Jazz          89\n",
       "32         Bryn Forbes        Nuggets          97\n",
       "33       Klay Thompson       Warriors          99"
      ]
     },
     "execution_count": 182,
     "metadata": {},
     "output_type": "execute_result"
    }
   ],
   "source": [
    "result4 = connection.execute(cmd4).fetchall()\n",
    "column_names = result4[0].keys()\n",
    "result4=pd.DataFrame(result4, columns=column_names)\n",
    "result4"
   ]
  },
  {
   "cell_type": "markdown",
   "id": "3c6bc8b4",
   "metadata": {},
   "source": [
    "### 5. For player who is changing teams, in which team did he score the most points？"
   ]
  },
  {
   "cell_type": "code",
   "execution_count": 183,
   "id": "cef16dec",
   "metadata": {},
   "outputs": [],
   "source": [
    "cmd5 = \"\"\"\n",
    "create or replace view score_by_team\n",
    "as\n",
    "(select player_id,team_id,sum(PF) as total_score\n",
    "from game_details \n",
    "join games_player_teams\n",
    "using(games_id,player_id)\n",
    "where player_id in \n",
    "(select player_id \n",
    "from\n",
    "(select player_id, count(team_id) count_of_change\n",
    "from player_team\n",
    "group by player_id \n",
    "having count(team_id) >1) sub1)\n",
    "group by (player_id, team_id)\n",
    "order by total_score DESC,player_id);\n",
    " \n",
    "select player_name, team_nickname,total_score\n",
    "from score_by_team\n",
    "join player\n",
    "using (player_id)\n",
    "join team\n",
    "using(team_id)\n",
    "where (player_id,total_score) in\n",
    "(select player_id,max(total_score) from score_by_team\n",
    "group by player_id)\n",
    "order by total_score DESC;\n",
    "\"\"\""
   ]
  },
  {
   "cell_type": "code",
   "execution_count": 184,
   "id": "fad3c010",
   "metadata": {},
   "outputs": [
    {
     "data": {
      "text/html": [
       "<div>\n",
       "<style scoped>\n",
       "    .dataframe tbody tr th:only-of-type {\n",
       "        vertical-align: middle;\n",
       "    }\n",
       "\n",
       "    .dataframe tbody tr th {\n",
       "        vertical-align: top;\n",
       "    }\n",
       "\n",
       "    .dataframe thead th {\n",
       "        text-align: right;\n",
       "    }\n",
       "</style>\n",
       "<table border=\"1\" class=\"dataframe\">\n",
       "  <thead>\n",
       "    <tr style=\"text-align: right;\">\n",
       "      <th></th>\n",
       "      <th>player_name</th>\n",
       "      <th>team_nickname</th>\n",
       "      <th>total_score</th>\n",
       "    </tr>\n",
       "  </thead>\n",
       "  <tbody>\n",
       "    <tr>\n",
       "      <th>0</th>\n",
       "      <td>Nikola Jokic</td>\n",
       "      <td>Nuggets</td>\n",
       "      <td>1127</td>\n",
       "    </tr>\n",
       "    <tr>\n",
       "      <th>1</th>\n",
       "      <td>Giannis Antetokounmpo</td>\n",
       "      <td>Bucks</td>\n",
       "      <td>1115</td>\n",
       "    </tr>\n",
       "    <tr>\n",
       "      <th>2</th>\n",
       "      <td>Pascal Siakam</td>\n",
       "      <td>Raptors</td>\n",
       "      <td>1029</td>\n",
       "    </tr>\n",
       "    <tr>\n",
       "      <th>3</th>\n",
       "      <td>Karl-Anthony Towns</td>\n",
       "      <td>Timberwolves</td>\n",
       "      <td>1025</td>\n",
       "    </tr>\n",
       "    <tr>\n",
       "      <th>4</th>\n",
       "      <td>Rudy Gobert</td>\n",
       "      <td>Jazz</td>\n",
       "      <td>1016</td>\n",
       "    </tr>\n",
       "    <tr>\n",
       "      <th>...</th>\n",
       "      <td>...</td>\n",
       "      <td>...</td>\n",
       "      <td>...</td>\n",
       "    </tr>\n",
       "    <tr>\n",
       "      <th>772</th>\n",
       "      <td>Donte Grantham</td>\n",
       "      <td>Clippers</td>\n",
       "      <td>0</td>\n",
       "    </tr>\n",
       "    <tr>\n",
       "      <th>773</th>\n",
       "      <td>Kaiser Gates</td>\n",
       "      <td>Bulls</td>\n",
       "      <td>0</td>\n",
       "    </tr>\n",
       "    <tr>\n",
       "      <th>774</th>\n",
       "      <td>Kaiser Gates</td>\n",
       "      <td>Celtics</td>\n",
       "      <td>0</td>\n",
       "    </tr>\n",
       "    <tr>\n",
       "      <th>775</th>\n",
       "      <td>None</td>\n",
       "      <td>Hornets</td>\n",
       "      <td>0</td>\n",
       "    </tr>\n",
       "    <tr>\n",
       "      <th>776</th>\n",
       "      <td>None</td>\n",
       "      <td>76ers</td>\n",
       "      <td>0</td>\n",
       "    </tr>\n",
       "  </tbody>\n",
       "</table>\n",
       "<p>777 rows × 3 columns</p>\n",
       "</div>"
      ],
      "text/plain": [
       "               player_name team_nickname  total_score\n",
       "0             Nikola Jokic       Nuggets         1127\n",
       "1    Giannis Antetokounmpo         Bucks         1115\n",
       "2            Pascal Siakam       Raptors         1029\n",
       "3       Karl-Anthony Towns  Timberwolves         1025\n",
       "4              Rudy Gobert          Jazz         1016\n",
       "..                     ...           ...          ...\n",
       "772         Donte Grantham      Clippers            0\n",
       "773           Kaiser Gates         Bulls            0\n",
       "774           Kaiser Gates       Celtics            0\n",
       "775                   None       Hornets            0\n",
       "776                   None         76ers            0\n",
       "\n",
       "[777 rows x 3 columns]"
      ]
     },
     "execution_count": 184,
     "metadata": {},
     "output_type": "execute_result"
    }
   ],
   "source": [
    "result5 = connection.execute(cmd5).fetchall()\n",
    "column_names = result5[0].keys()\n",
    "result5=pd.DataFrame(result5, columns=column_names)\n",
    "result5"
   ]
  },
  {
   "cell_type": "markdown",
   "id": "69773d26",
   "metadata": {},
   "source": [
    "### 6. Based on the conference (team), which is the best players to represent the east and west?"
   ]
  },
  {
   "cell_type": "code",
   "execution_count": 211,
   "id": "21c09d86",
   "metadata": {},
   "outputs": [],
   "source": [
    "cmd6 = \"\"\"\n",
    "create or replace view west\n",
    "as\n",
    "(select top100_by_score.player_id, top100_by_score.player_name, \n",
    "max(top100_by_score.total_score) as total_scores, conference\n",
    "from top100_by_score, player_team, team\n",
    "where top100_by_score.player_id = player_team.player_id\n",
    "and player_team.team_id = team.team_id\n",
    "and conference = 'West'\n",
    "and season = 2021\n",
    "group by top100_by_score.player_id, top100_by_score.player_name, conference\n",
    "order by total_scores desc\n",
    "limit 1);\n",
    " \n",
    "create or replace view east\n",
    "as\n",
    "(select top100_by_score.player_id, top100_by_score.player_name, \n",
    "max(top100_by_score.total_score) as total_scores, conference\n",
    "from top100_by_score, player_team, team\n",
    "where top100_by_score.player_id = player_team.player_id\n",
    "and player_team.team_id = team.team_id\n",
    "and conference = 'East'\n",
    "and season = 2021\n",
    "group by top100_by_score.player_id, top100_by_score.player_name, conference\n",
    "order by total_scores desc\n",
    "limit 1);\n",
    " \n",
    "select *\n",
    "from west\n",
    "union\n",
    "select *\n",
    "from east\n",
    "\"\"\""
   ]
  },
  {
   "cell_type": "code",
   "execution_count": 212,
   "id": "077f60e4",
   "metadata": {},
   "outputs": [
    {
     "data": {
      "text/html": [
       "<div>\n",
       "<style scoped>\n",
       "    .dataframe tbody tr th:only-of-type {\n",
       "        vertical-align: middle;\n",
       "    }\n",
       "\n",
       "    .dataframe tbody tr th {\n",
       "        vertical-align: top;\n",
       "    }\n",
       "\n",
       "    .dataframe thead th {\n",
       "        text-align: right;\n",
       "    }\n",
       "</style>\n",
       "<table border=\"1\" class=\"dataframe\">\n",
       "  <thead>\n",
       "    <tr style=\"text-align: right;\">\n",
       "      <th></th>\n",
       "      <th>player_id</th>\n",
       "      <th>player_name</th>\n",
       "      <th>total_scores</th>\n",
       "      <th>conference</th>\n",
       "    </tr>\n",
       "  </thead>\n",
       "  <tbody>\n",
       "    <tr>\n",
       "      <th>0</th>\n",
       "      <td>201935</td>\n",
       "      <td>James Harden</td>\n",
       "      <td>10205</td>\n",
       "      <td>East</td>\n",
       "    </tr>\n",
       "    <tr>\n",
       "      <th>1</th>\n",
       "      <td>203081</td>\n",
       "      <td>Damian Lillard</td>\n",
       "      <td>8851</td>\n",
       "      <td>West</td>\n",
       "    </tr>\n",
       "  </tbody>\n",
       "</table>\n",
       "</div>"
      ],
      "text/plain": [
       "  player_id     player_name  total_scores conference\n",
       "0    201935    James Harden         10205       East\n",
       "1    203081  Damian Lillard          8851       West"
      ]
     },
     "execution_count": 212,
     "metadata": {},
     "output_type": "execute_result"
    }
   ],
   "source": [
    "result6 = connection.execute(cmd6).fetchall()\n",
    "column_names = result6[0].keys()\n",
    "result6=pd.DataFrame(result6, columns=column_names)\n",
    "result6"
   ]
  },
  {
   "cell_type": "markdown",
   "id": "5439735c",
   "metadata": {},
   "source": [
    "### 7.Which is the high-risk player that has the highest PF?"
   ]
  },
  {
   "cell_type": "code",
   "execution_count": 213,
   "id": "bd6f5c60",
   "metadata": {},
   "outputs": [],
   "source": [
    "cmd7=\"\"\"\n",
    "select p.player_id, p.player_name, sum(pf) as total_pf\n",
    "from game_details gd, player p\n",
    "where gd.player_id = p.player_id\n",
    "group by p.player_id, p.player_name\n",
    "having sum(pf) is not NULL\n",
    "order by total_pf desc\n",
    "limit 1\n",
    "\"\"\""
   ]
  },
  {
   "cell_type": "code",
   "execution_count": 214,
   "id": "0fc58b31",
   "metadata": {},
   "outputs": [
    {
     "data": {
      "text/html": [
       "<div>\n",
       "<style scoped>\n",
       "    .dataframe tbody tr th:only-of-type {\n",
       "        vertical-align: middle;\n",
       "    }\n",
       "\n",
       "    .dataframe tbody tr th {\n",
       "        vertical-align: top;\n",
       "    }\n",
       "\n",
       "    .dataframe thead th {\n",
       "        text-align: right;\n",
       "    }\n",
       "</style>\n",
       "<table border=\"1\" class=\"dataframe\">\n",
       "  <thead>\n",
       "    <tr style=\"text-align: right;\">\n",
       "      <th></th>\n",
       "      <th>player_id</th>\n",
       "      <th>player_name</th>\n",
       "      <th>total_pf</th>\n",
       "    </tr>\n",
       "  </thead>\n",
       "  <tbody>\n",
       "    <tr>\n",
       "      <th>0</th>\n",
       "      <td>203999</td>\n",
       "      <td>Nikola Jokic</td>\n",
       "      <td>1127</td>\n",
       "    </tr>\n",
       "  </tbody>\n",
       "</table>\n",
       "</div>"
      ],
      "text/plain": [
       "  player_id   player_name  total_pf\n",
       "0    203999  Nikola Jokic      1127"
      ]
     },
     "execution_count": 214,
     "metadata": {},
     "output_type": "execute_result"
    }
   ],
   "source": [
    "result7 = connection.execute(cmd7).fetchall()\n",
    "column_names = result7[0].keys()\n",
    "result7=pd.DataFrame(result7, columns=column_names)\n",
    "result7"
   ]
  },
  {
   "cell_type": "markdown",
   "id": "ec7b83b0",
   "metadata": {},
   "source": [
    "### 8. Which team won the highest number of games when away, and who is the owner?"
   ]
  },
  {
   "cell_type": "code",
   "execution_count": 215,
   "id": "d63ed803",
   "metadata": {},
   "outputs": [],
   "source": [
    "cmd8=\"\"\"\n",
    "select t.team_id, t.team_nickname, owner, count(*) as winning_away\n",
    "from games_visitorteam gv, team t, games g\n",
    "where gv.visitor_team_id = t.team_id\n",
    "and g.games_id = gv.games_id\n",
    "and home_team_wins = '0'\n",
    "group by t.team_id, t.team_nickname, owner\n",
    "order by winning_away desc\n",
    "limit 1\n",
    "\"\"\""
   ]
  },
  {
   "cell_type": "code",
   "execution_count": 216,
   "id": "8e35593e",
   "metadata": {},
   "outputs": [
    {
     "data": {
      "text/html": [
       "<div>\n",
       "<style scoped>\n",
       "    .dataframe tbody tr th:only-of-type {\n",
       "        vertical-align: middle;\n",
       "    }\n",
       "\n",
       "    .dataframe tbody tr th {\n",
       "        vertical-align: top;\n",
       "    }\n",
       "\n",
       "    .dataframe thead th {\n",
       "        text-align: right;\n",
       "    }\n",
       "</style>\n",
       "<table border=\"1\" class=\"dataframe\">\n",
       "  <thead>\n",
       "    <tr style=\"text-align: right;\">\n",
       "      <th></th>\n",
       "      <th>team_id</th>\n",
       "      <th>team_nickname</th>\n",
       "      <th>owner</th>\n",
       "      <th>winning_away</th>\n",
       "    </tr>\n",
       "  </thead>\n",
       "  <tbody>\n",
       "    <tr>\n",
       "      <th>0</th>\n",
       "      <td>1610612749</td>\n",
       "      <td>Bucks</td>\n",
       "      <td>Wesley Edens &amp; Marc Lasry</td>\n",
       "      <td>121</td>\n",
       "    </tr>\n",
       "  </tbody>\n",
       "</table>\n",
       "</div>"
      ],
      "text/plain": [
       "      team_id team_nickname                      owner  winning_away\n",
       "0  1610612749         Bucks  Wesley Edens & Marc Lasry           121"
      ]
     },
     "execution_count": 216,
     "metadata": {},
     "output_type": "execute_result"
    }
   ],
   "source": [
    "result8 = connection.execute(cmd8).fetchall()\n",
    "column_names = result8[0].keys()\n",
    "result8=pd.DataFrame(result8, columns=column_names)\n",
    "result8"
   ]
  },
  {
   "cell_type": "markdown",
   "id": "756485d7",
   "metadata": {},
   "source": [
    "### 9. Which team has won the most games in the last five years, and how many games have they won in total?"
   ]
  },
  {
   "cell_type": "code",
   "execution_count": 217,
   "id": "5556a9e6",
   "metadata": {},
   "outputs": [],
   "source": [
    "cmd9=\"\"\"\n",
    "create or replace view win_game\n",
    "as\n",
    "(select games_id, home_team_wins,home_team_id, visitor_team_id\n",
    "from games\n",
    "join games_hometeam\n",
    "using(games_id)\n",
    "join games_visitorteam\n",
    "using(games_id));\n",
    " \n",
    "select team_id, team_nickname, sum(count_of_win) total_wins\n",
    "from \n",
    "(select home_team_id team_id, count(games_id) count_of_win\n",
    "from win_game\n",
    "where home_team_wins = '1'\n",
    "group by home_team_id\n",
    "union\n",
    "select visitor_team_id team_id, count(games_id) count_of_win\n",
    "from win_game\n",
    "where home_team_wins = '0'\n",
    "group by visitor_team_id) sub1\n",
    "join team\n",
    "using(team_id)\n",
    "group by team_id, team_nickname\n",
    "order by total_wins DESC\n",
    "limit 1;\n",
    "\"\"\""
   ]
  },
  {
   "cell_type": "code",
   "execution_count": 218,
   "id": "f831cf14",
   "metadata": {},
   "outputs": [
    {
     "data": {
      "text/html": [
       "<div>\n",
       "<style scoped>\n",
       "    .dataframe tbody tr th:only-of-type {\n",
       "        vertical-align: middle;\n",
       "    }\n",
       "\n",
       "    .dataframe tbody tr th {\n",
       "        vertical-align: top;\n",
       "    }\n",
       "\n",
       "    .dataframe thead th {\n",
       "        text-align: right;\n",
       "    }\n",
       "</style>\n",
       "<table border=\"1\" class=\"dataframe\">\n",
       "  <thead>\n",
       "    <tr style=\"text-align: right;\">\n",
       "      <th></th>\n",
       "      <th>team_id</th>\n",
       "      <th>team_nickname</th>\n",
       "      <th>total_wins</th>\n",
       "    </tr>\n",
       "  </thead>\n",
       "  <tbody>\n",
       "    <tr>\n",
       "      <th>0</th>\n",
       "      <td>1610612749</td>\n",
       "      <td>Bucks</td>\n",
       "      <td>274</td>\n",
       "    </tr>\n",
       "  </tbody>\n",
       "</table>\n",
       "</div>"
      ],
      "text/plain": [
       "      team_id team_nickname total_wins\n",
       "0  1610612749         Bucks        274"
      ]
     },
     "execution_count": 218,
     "metadata": {},
     "output_type": "execute_result"
    }
   ],
   "source": [
    "result9 = connection.execute(cmd9).fetchall()\n",
    "column_names = result9[0].keys()\n",
    "result9=pd.DataFrame(result9, columns=column_names)\n",
    "result9"
   ]
  },
  {
   "cell_type": "markdown",
   "id": "b2032a40",
   "metadata": {},
   "source": [
    "### 10. Which arena has won the most games over the past five years?"
   ]
  },
  {
   "cell_type": "code",
   "execution_count": 219,
   "id": "eebc5e56",
   "metadata": {},
   "outputs": [],
   "source": [
    "cmd10=\"\"\"\n",
    "create or replace view win_by_arena\n",
    "as\n",
    "(select home_team_id team_id, arena_id, count(games_id) count_of_win\n",
    "from win_game\n",
    "join games\n",
    "using(games_id)\n",
    "where win_game.home_team_wins = '1'\n",
    "group by home_team_id,arena_id\n",
    "union\n",
    "select visitor_team_id team_id, arena_id, count(games_id) count_of_win\n",
    "from win_game\n",
    "join games\n",
    "using(games_id)\n",
    "where win_game.home_team_wins = '0'\n",
    "group by visitor_team_id,arena_id);\n",
    " \n",
    "select arena, sum(count_of_win) total_win_by_arena\n",
    "from win_by_arena\n",
    "join game_location_info\n",
    "using(arena_id)\n",
    "group by arena\n",
    "order by total_win_by_arena DESC\n",
    "limit 1\n",
    "\"\"\""
   ]
  },
  {
   "cell_type": "code",
   "execution_count": 221,
   "id": "75ab1176",
   "metadata": {},
   "outputs": [
    {
     "data": {
      "text/html": [
       "<div>\n",
       "<style scoped>\n",
       "    .dataframe tbody tr th:only-of-type {\n",
       "        vertical-align: middle;\n",
       "    }\n",
       "\n",
       "    .dataframe tbody tr th {\n",
       "        vertical-align: top;\n",
       "    }\n",
       "\n",
       "    .dataframe thead th {\n",
       "        text-align: right;\n",
       "    }\n",
       "</style>\n",
       "<table border=\"1\" class=\"dataframe\">\n",
       "  <thead>\n",
       "    <tr style=\"text-align: right;\">\n",
       "      <th></th>\n",
       "      <th>arena</th>\n",
       "      <th>total_win_by_arena</th>\n",
       "    </tr>\n",
       "  </thead>\n",
       "  <tbody>\n",
       "    <tr>\n",
       "      <th>0</th>\n",
       "      <td>Staples Center</td>\n",
       "      <td>405</td>\n",
       "    </tr>\n",
       "  </tbody>\n",
       "</table>\n",
       "</div>"
      ],
      "text/plain": [
       "            arena total_win_by_arena\n",
       "0  Staples Center                405"
      ]
     },
     "execution_count": 221,
     "metadata": {},
     "output_type": "execute_result"
    }
   ],
   "source": [
    "result10 = connection.execute(cmd10).fetchall()\n",
    "column_names = result10[0].keys()\n",
    "result10=pd.DataFrame(result10, columns=column_names)\n",
    "result10"
   ]
  },
  {
   "cell_type": "code",
   "execution_count": 222,
   "id": "9f4616a6",
   "metadata": {},
   "outputs": [],
   "source": [
    "connection.close()"
   ]
  },
  {
   "cell_type": "code",
   "execution_count": 159,
   "id": "631e001b",
   "metadata": {},
   "outputs": [],
   "source": []
  },
  {
   "cell_type": "code",
   "execution_count": null,
   "id": "e259de77",
   "metadata": {},
   "outputs": [],
   "source": []
  }
 ],
 "metadata": {
  "kernelspec": {
   "display_name": "Python 3 (ipykernel)",
   "language": "python",
   "name": "python3"
  },
  "language_info": {
   "codemirror_mode": {
    "name": "ipython",
    "version": 3
   },
   "file_extension": ".py",
   "mimetype": "text/x-python",
   "name": "python",
   "nbconvert_exporter": "python",
   "pygments_lexer": "ipython3",
   "version": "3.10.0"
  }
 },
 "nbformat": 4,
 "nbformat_minor": 5
}
